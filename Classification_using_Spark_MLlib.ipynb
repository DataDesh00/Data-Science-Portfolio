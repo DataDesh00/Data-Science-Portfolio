{
  "nbformat": 4,
  "nbformat_minor": 0,
  "metadata": {
    "colab": {
      "name": "Classification using Spark MLlib.ipynb",
      "provenance": []
    },
    "kernelspec": {
      "name": "python3",
      "display_name": "Python 3"
    }
  },
  "cells": [
    {
      "cell_type": "code",
      "metadata": {
        "id": "uOQeqnuTcgyw",
        "colab_type": "code",
        "colab": {
          "base_uri": "https://localhost:8080/"
        },
        "outputId": "e5bfb70e-1f1d-4d7b-902c-5a6872f36d28"
      },
      "source": [
        "import os \n",
        "\n",
        "# Install java\n",
        "! apt-get install -y openjdk-8-jdk-headless -qq > /dev/null\n",
        "os.environ[\"JAVA_HOME\"] = \"/usr/lib/jvm/java-8-openjdk-amd64\"\n",
        "os.environ[\"PATH\"] = os.environ[\"JAVA_HOME\"] + \"/bin:\" + os.environ[\"PATH\"]\n",
        "! java -version\n",
        "\n",
        "# Install pyspark\n",
        "! pip install --ignore-installed pyspark\n",
        "\n",
        "# Install Spark NLP\n",
        "! pip install --ignore-installed spark-nlp"
      ],
      "execution_count": 3,
      "outputs": [
        {
          "output_type": "stream",
          "text": [
            "openjdk version \"1.8.0_265\"\n",
            "OpenJDK Runtime Environment (build 1.8.0_265-8u265-b01-0ubuntu2~18.04-b01)\n",
            "OpenJDK 64-Bit Server VM (build 25.265-b01, mixed mode)\n",
            "Collecting pyspark\n",
            "\u001b[?25l  Downloading https://files.pythonhosted.org/packages/f0/26/198fc8c0b98580f617cb03cb298c6056587b8f0447e20fa40c5b634ced77/pyspark-3.0.1.tar.gz (204.2MB)\n",
            "\u001b[K     |████████████████████████████████| 204.2MB 58kB/s \n",
            "\u001b[?25hCollecting py4j==0.10.9\n",
            "\u001b[?25l  Downloading https://files.pythonhosted.org/packages/9e/b6/6a4fb90cd235dc8e265a6a2067f2a2c99f0d91787f06aca4bcf7c23f3f80/py4j-0.10.9-py2.py3-none-any.whl (198kB)\n",
            "\u001b[K     |████████████████████████████████| 204kB 45.6MB/s \n",
            "\u001b[?25hBuilding wheels for collected packages: pyspark\n",
            "  Building wheel for pyspark (setup.py) ... \u001b[?25l\u001b[?25hdone\n",
            "  Created wheel for pyspark: filename=pyspark-3.0.1-py2.py3-none-any.whl size=204612243 sha256=24e7e413ff35c4c3ea3f1ac8e902e42f5b67e3c9bbc0b0f725db9d271f7f6caf\n",
            "  Stored in directory: /root/.cache/pip/wheels/5e/bd/07/031766ca628adec8435bb40f0bd83bb676ce65ff4007f8e73f\n",
            "Successfully built pyspark\n",
            "Installing collected packages: py4j, pyspark\n",
            "Successfully installed py4j-0.10.9 pyspark-3.0.1\n",
            "Collecting spark-nlp\n",
            "\u001b[?25l  Downloading https://files.pythonhosted.org/packages/4e/b9/2fad4ac1c115dbd1487627e4a95458f9aa5a6a641798d5d10d1ce3eb61bd/spark_nlp-2.6.1-py2.py3-none-any.whl (128kB)\n",
            "\u001b[K     |████████████████████████████████| 133kB 2.9MB/s \n",
            "\u001b[?25hInstalling collected packages: spark-nlp\n",
            "Successfully installed spark-nlp-2.6.1\n"
          ],
          "name": "stdout"
        }
      ]
    },
    {
      "cell_type": "code",
      "metadata": {
        "id": "wDQUX25Qcx45",
        "colab_type": "code",
        "colab": {}
      },
      "source": [
        "! mkdir -p data"
      ],
      "execution_count": 4,
      "outputs": []
    },
    {
      "cell_type": "code",
      "metadata": {
        "id": "aw_FwxfcdFBv",
        "colab_type": "code",
        "colab": {
          "base_uri": "https://localhost:8080/",
          "height": 212
        },
        "outputId": "8ac63aeb-fab4-4929-89c6-c67c1e78bbac"
      },
      "source": [
        "! wget https://archive.ics.uci.edu/ml/machine-learning-databases/iris/iris.data"
      ],
      "execution_count": 5,
      "outputs": [
        {
          "output_type": "stream",
          "text": [
            "--2020-09-14 23:17:38--  https://archive.ics.uci.edu/ml/machine-learning-databases/iris/iris.data\n",
            "Resolving archive.ics.uci.edu (archive.ics.uci.edu)... 128.195.10.252\n",
            "Connecting to archive.ics.uci.edu (archive.ics.uci.edu)|128.195.10.252|:443... connected.\n",
            "HTTP request sent, awaiting response... 200 OK\n",
            "Length: 4551 (4.4K) [application/x-httpd-php]\n",
            "Saving to: ‘iris.data’\n",
            "\n",
            "iris.data           100%[===================>]   4.44K  --.-KB/s    in 0s      \n",
            "\n",
            "2020-09-14 23:17:38 (77.0 MB/s) - ‘iris.data’ saved [4551/4551]\n",
            "\n"
          ],
          "name": "stdout"
        }
      ]
    },
    {
      "cell_type": "code",
      "metadata": {
        "id": "EeDxIWildIcd",
        "colab_type": "code",
        "colab": {}
      },
      "source": [
        "! mv iris.data ./data"
      ],
      "execution_count": 6,
      "outputs": []
    },
    {
      "cell_type": "code",
      "metadata": {
        "id": "d8eEZlLCdp0j",
        "colab_type": "code",
        "colab": {
          "base_uri": "https://localhost:8080/",
          "height": 35
        },
        "outputId": "9b9204cc-b0ef-4361-8906-a748ed7bfc59"
      },
      "source": [
        "! ls ./data"
      ],
      "execution_count": 7,
      "outputs": [
        {
          "output_type": "stream",
          "text": [
            "iris.data\n"
          ],
          "name": "stdout"
        }
      ]
    },
    {
      "cell_type": "code",
      "metadata": {
        "id": "BOY87QjadtmE",
        "colab_type": "code",
        "colab": {}
      },
      "source": [
        "\n",
        "from time import sleep\n",
        "\n",
        "import pyspark\n",
        "from pyspark import SparkConf\n",
        "from pyspark.sql import SparkSession\n",
        "from pyspark.sql import functions as fun\n",
        "from pyspark.sql.types import *"
      ],
      "execution_count": 8,
      "outputs": []
    },
    {
      "cell_type": "code",
      "metadata": {
        "id": "yJ4840EdfKUl",
        "colab_type": "code",
        "colab": {}
      },
      "source": [
        "%matplotlib inline\n",
        "import matplotlib.pyplot as plt"
      ],
      "execution_count": 9,
      "outputs": []
    },
    {
      "cell_type": "code",
      "metadata": {
        "id": "w1R0xc-LfTur",
        "colab_type": "code",
        "colab": {}
      },
      "source": [
        "packages = ','.join([\n",
        "    \"com.johnsnowlabs.nlp:spark-nlp_2.11:2.4.5\",\n",
        "])\n",
        "\n",
        "spark = SparkSession.builder.getOrCreate()"
      ],
      "execution_count": 10,
      "outputs": []
    },
    {
      "cell_type": "code",
      "metadata": {
        "id": "-lEXfdsMd0zZ",
        "colab_type": "code",
        "colab": {}
      },
      "source": [
        "from pyspark.sql.types import *"
      ],
      "execution_count": 11,
      "outputs": []
    },
    {
      "cell_type": "markdown",
      "metadata": {
        "id": "YJcMTf8gfYO5",
        "colab_type": "text"
      },
      "source": [
        "# **Classification using Spark MLib**\n",
        "\n",
        "The goal is to build a model to predict what class an iris flower is (virginica, setosa, versicolor) based on its sepals and petals. The iris dataset does not have a header so a schema is contructed to define the columns and their types in the Dataframe."
      ]
    },
    {
      "cell_type": "code",
      "metadata": {
        "id": "h0B0mUued5sL",
        "colab_type": "code",
        "colab": {}
      },
      "source": [
        "schema = StructType([\n",
        "                     StructField('sepal_length', DoubleType(), nullable=False),\n",
        "                     StructField('sepal_width', DoubleType(), nullable=False),\n",
        "                     StructField('petal_length', DoubleType(), nullable=False),\n",
        "                     StructField('petal_width', DoubleType(), nullable=False),\n",
        "                     StructField('class', StringType(), nullable=False)                               \n",
        "])"
      ],
      "execution_count": 12,
      "outputs": []
    },
    {
      "cell_type": "code",
      "metadata": {
        "id": "6VOZlwDyejwm",
        "colab_type": "code",
        "colab": {}
      },
      "source": [
        "iris = spark.read.csv('./data/iris.data', schema=schema)"
      ],
      "execution_count": 13,
      "outputs": []
    },
    {
      "cell_type": "code",
      "metadata": {
        "id": "QBtlXx64er9X",
        "colab_type": "code",
        "colab": {
          "base_uri": "https://localhost:8080/",
          "height": 200
        },
        "outputId": "ba719664-3252-4d76-c39a-d9b349b8e3ff"
      },
      "source": [
        "iris.describe().toPandas()"
      ],
      "execution_count": 14,
      "outputs": [
        {
          "output_type": "execute_result",
          "data": {
            "text/html": [
              "<div>\n",
              "<style scoped>\n",
              "    .dataframe tbody tr th:only-of-type {\n",
              "        vertical-align: middle;\n",
              "    }\n",
              "\n",
              "    .dataframe tbody tr th {\n",
              "        vertical-align: top;\n",
              "    }\n",
              "\n",
              "    .dataframe thead th {\n",
              "        text-align: right;\n",
              "    }\n",
              "</style>\n",
              "<table border=\"1\" class=\"dataframe\">\n",
              "  <thead>\n",
              "    <tr style=\"text-align: right;\">\n",
              "      <th></th>\n",
              "      <th>summary</th>\n",
              "      <th>sepal_length</th>\n",
              "      <th>sepal_width</th>\n",
              "      <th>petal_length</th>\n",
              "      <th>petal_width</th>\n",
              "      <th>class</th>\n",
              "    </tr>\n",
              "  </thead>\n",
              "  <tbody>\n",
              "    <tr>\n",
              "      <th>0</th>\n",
              "      <td>count</td>\n",
              "      <td>150</td>\n",
              "      <td>150</td>\n",
              "      <td>150</td>\n",
              "      <td>150</td>\n",
              "      <td>150</td>\n",
              "    </tr>\n",
              "    <tr>\n",
              "      <th>1</th>\n",
              "      <td>mean</td>\n",
              "      <td>5.843333333333335</td>\n",
              "      <td>3.0540000000000007</td>\n",
              "      <td>3.7586666666666693</td>\n",
              "      <td>1.1986666666666672</td>\n",
              "      <td>None</td>\n",
              "    </tr>\n",
              "    <tr>\n",
              "      <th>2</th>\n",
              "      <td>stddev</td>\n",
              "      <td>0.8280661279778637</td>\n",
              "      <td>0.43359431136217375</td>\n",
              "      <td>1.764420419952262</td>\n",
              "      <td>0.7631607417008414</td>\n",
              "      <td>None</td>\n",
              "    </tr>\n",
              "    <tr>\n",
              "      <th>3</th>\n",
              "      <td>min</td>\n",
              "      <td>4.3</td>\n",
              "      <td>2.0</td>\n",
              "      <td>1.0</td>\n",
              "      <td>0.1</td>\n",
              "      <td>Iris-setosa</td>\n",
              "    </tr>\n",
              "    <tr>\n",
              "      <th>4</th>\n",
              "      <td>max</td>\n",
              "      <td>7.9</td>\n",
              "      <td>4.4</td>\n",
              "      <td>6.9</td>\n",
              "      <td>2.5</td>\n",
              "      <td>Iris-virginica</td>\n",
              "    </tr>\n",
              "  </tbody>\n",
              "</table>\n",
              "</div>"
            ],
            "text/plain": [
              "  summary        sepal_length  ...         petal_width           class\n",
              "0   count                 150  ...                 150             150\n",
              "1    mean   5.843333333333335  ...  1.1986666666666672            None\n",
              "2  stddev  0.8280661279778637  ...  0.7631607417008414            None\n",
              "3     min                 4.3  ...                 0.1     Iris-setosa\n",
              "4     max                 7.9  ...                 2.5  Iris-virginica\n",
              "\n",
              "[5 rows x 6 columns]"
            ]
          },
          "metadata": {
            "tags": []
          },
          "execution_count": 14
        }
      ]
    },
    {
      "cell_type": "markdown",
      "metadata": {
        "id": "zMj0NdkKf1Z1",
        "colab_type": "text"
      },
      "source": [
        "Here are some of the summary statistics for the Iris setosa class."
      ]
    },
    {
      "cell_type": "code",
      "metadata": {
        "id": "Coo4sDnHgN8n",
        "colab_type": "code",
        "colab": {
          "base_uri": "https://localhost:8080/",
          "height": 139
        },
        "outputId": "04fd1a2c-ac00-4344-96fd-d7bf6e2ba909"
      },
      "source": [
        "iris.select('class').distinct().toPandas()"
      ],
      "execution_count": 15,
      "outputs": [
        {
          "output_type": "execute_result",
          "data": {
            "text/html": [
              "<div>\n",
              "<style scoped>\n",
              "    .dataframe tbody tr th:only-of-type {\n",
              "        vertical-align: middle;\n",
              "    }\n",
              "\n",
              "    .dataframe tbody tr th {\n",
              "        vertical-align: top;\n",
              "    }\n",
              "\n",
              "    .dataframe thead th {\n",
              "        text-align: right;\n",
              "    }\n",
              "</style>\n",
              "<table border=\"1\" class=\"dataframe\">\n",
              "  <thead>\n",
              "    <tr style=\"text-align: right;\">\n",
              "      <th></th>\n",
              "      <th>class</th>\n",
              "    </tr>\n",
              "  </thead>\n",
              "  <tbody>\n",
              "    <tr>\n",
              "      <th>0</th>\n",
              "      <td>Iris-virginica</td>\n",
              "    </tr>\n",
              "    <tr>\n",
              "      <th>1</th>\n",
              "      <td>Iris-setosa</td>\n",
              "    </tr>\n",
              "    <tr>\n",
              "      <th>2</th>\n",
              "      <td>Iris-versicolor</td>\n",
              "    </tr>\n",
              "  </tbody>\n",
              "</table>\n",
              "</div>"
            ],
            "text/plain": [
              "             class\n",
              "0   Iris-virginica\n",
              "1      Iris-setosa\n",
              "2  Iris-versicolor"
            ]
          },
          "metadata": {
            "tags": []
          },
          "execution_count": 15
        }
      ]
    },
    {
      "cell_type": "markdown",
      "metadata": {
        "id": "kYLLm5V2gQ-s",
        "colab_type": "text"
      },
      "source": [
        "It is possible to register a Dataframe which will allow to interact with it using SQL. The Dataframe will be registered as a temporary table. This means that the table will exist only fo the lifetime of teh application."
      ]
    },
    {
      "cell_type": "code",
      "metadata": {
        "id": "rnkFLsV9gcL2",
        "colab_type": "code",
        "colab": {}
      },
      "source": [
        "iris.registerTempTable('iris')"
      ],
      "execution_count": 16,
      "outputs": []
    },
    {
      "cell_type": "code",
      "metadata": {
        "id": "9_LKKOppgvXb",
        "colab_type": "code",
        "colab": {
          "base_uri": "https://localhost:8080/",
          "height": 200
        },
        "outputId": "2bb5b729-adfa-4af4-9d3f-24f01772a431"
      },
      "source": [
        "spark.sql('''\n",
        "SELECT *\n",
        "FROM iris\n",
        "LIMIT 5\n",
        "''').toPandas()"
      ],
      "execution_count": 17,
      "outputs": [
        {
          "output_type": "execute_result",
          "data": {
            "text/html": [
              "<div>\n",
              "<style scoped>\n",
              "    .dataframe tbody tr th:only-of-type {\n",
              "        vertical-align: middle;\n",
              "    }\n",
              "\n",
              "    .dataframe tbody tr th {\n",
              "        vertical-align: top;\n",
              "    }\n",
              "\n",
              "    .dataframe thead th {\n",
              "        text-align: right;\n",
              "    }\n",
              "</style>\n",
              "<table border=\"1\" class=\"dataframe\">\n",
              "  <thead>\n",
              "    <tr style=\"text-align: right;\">\n",
              "      <th></th>\n",
              "      <th>sepal_length</th>\n",
              "      <th>sepal_width</th>\n",
              "      <th>petal_length</th>\n",
              "      <th>petal_width</th>\n",
              "      <th>class</th>\n",
              "    </tr>\n",
              "  </thead>\n",
              "  <tbody>\n",
              "    <tr>\n",
              "      <th>0</th>\n",
              "      <td>5.1</td>\n",
              "      <td>3.5</td>\n",
              "      <td>1.4</td>\n",
              "      <td>0.2</td>\n",
              "      <td>Iris-setosa</td>\n",
              "    </tr>\n",
              "    <tr>\n",
              "      <th>1</th>\n",
              "      <td>4.9</td>\n",
              "      <td>3.0</td>\n",
              "      <td>1.4</td>\n",
              "      <td>0.2</td>\n",
              "      <td>Iris-setosa</td>\n",
              "    </tr>\n",
              "    <tr>\n",
              "      <th>2</th>\n",
              "      <td>4.7</td>\n",
              "      <td>3.2</td>\n",
              "      <td>1.3</td>\n",
              "      <td>0.2</td>\n",
              "      <td>Iris-setosa</td>\n",
              "    </tr>\n",
              "    <tr>\n",
              "      <th>3</th>\n",
              "      <td>4.6</td>\n",
              "      <td>3.1</td>\n",
              "      <td>1.5</td>\n",
              "      <td>0.2</td>\n",
              "      <td>Iris-setosa</td>\n",
              "    </tr>\n",
              "    <tr>\n",
              "      <th>4</th>\n",
              "      <td>5.0</td>\n",
              "      <td>3.6</td>\n",
              "      <td>1.4</td>\n",
              "      <td>0.2</td>\n",
              "      <td>Iris-setosa</td>\n",
              "    </tr>\n",
              "  </tbody>\n",
              "</table>\n",
              "</div>"
            ],
            "text/plain": [
              "   sepal_length  sepal_width  petal_length  petal_width        class\n",
              "0           5.1          3.5           1.4          0.2  Iris-setosa\n",
              "1           4.9          3.0           1.4          0.2  Iris-setosa\n",
              "2           4.7          3.2           1.3          0.2  Iris-setosa\n",
              "3           4.6          3.1           1.5          0.2  Iris-setosa\n",
              "4           5.0          3.6           1.4          0.2  Iris-setosa"
            ]
          },
          "metadata": {
            "tags": []
          },
          "execution_count": 17
        }
      ]
    },
    {
      "cell_type": "markdown",
      "metadata": {
        "id": "I8ba9HAMgoSL",
        "colab_type": "text"
      },
      "source": [
        "Here are some of the fields grouped by their class."
      ]
    },
    {
      "cell_type": "code",
      "metadata": {
        "id": "ktfVmLbQg7Sv",
        "colab_type": "code",
        "colab": {
          "base_uri": "https://localhost:8080/",
          "height": 210
        },
        "outputId": "f2db383e-14db-4584-a235-4c9979b99719"
      },
      "source": [
        "spark.sql('''\n",
        "SELECT class,\n",
        "    min(sepal_length), avg(sepal_length), max(sepal_length),\n",
        "    min(sepal_width), avg(sepal_width), max(sepal_width),\n",
        "    min(petal_length), avg(petal_length), max(petal_length),\n",
        "    min(petal_width), avg(petal_width), max(petal_width)\n",
        "FROM iris\n",
        "GROUP BY class\n",
        "''').toPandas()"
      ],
      "execution_count": 18,
      "outputs": [
        {
          "output_type": "execute_result",
          "data": {
            "text/html": [
              "<div>\n",
              "<style scoped>\n",
              "    .dataframe tbody tr th:only-of-type {\n",
              "        vertical-align: middle;\n",
              "    }\n",
              "\n",
              "    .dataframe tbody tr th {\n",
              "        vertical-align: top;\n",
              "    }\n",
              "\n",
              "    .dataframe thead th {\n",
              "        text-align: right;\n",
              "    }\n",
              "</style>\n",
              "<table border=\"1\" class=\"dataframe\">\n",
              "  <thead>\n",
              "    <tr style=\"text-align: right;\">\n",
              "      <th></th>\n",
              "      <th>class</th>\n",
              "      <th>min(sepal_length)</th>\n",
              "      <th>avg(sepal_length)</th>\n",
              "      <th>max(sepal_length)</th>\n",
              "      <th>min(sepal_width)</th>\n",
              "      <th>avg(sepal_width)</th>\n",
              "      <th>max(sepal_width)</th>\n",
              "      <th>min(petal_length)</th>\n",
              "      <th>avg(petal_length)</th>\n",
              "      <th>max(petal_length)</th>\n",
              "      <th>min(petal_width)</th>\n",
              "      <th>avg(petal_width)</th>\n",
              "      <th>max(petal_width)</th>\n",
              "    </tr>\n",
              "  </thead>\n",
              "  <tbody>\n",
              "    <tr>\n",
              "      <th>0</th>\n",
              "      <td>Iris-virginica</td>\n",
              "      <td>4.9</td>\n",
              "      <td>6.588</td>\n",
              "      <td>7.9</td>\n",
              "      <td>2.2</td>\n",
              "      <td>2.974</td>\n",
              "      <td>3.8</td>\n",
              "      <td>4.5</td>\n",
              "      <td>5.552</td>\n",
              "      <td>6.9</td>\n",
              "      <td>1.4</td>\n",
              "      <td>2.026</td>\n",
              "      <td>2.5</td>\n",
              "    </tr>\n",
              "    <tr>\n",
              "      <th>1</th>\n",
              "      <td>Iris-setosa</td>\n",
              "      <td>4.3</td>\n",
              "      <td>5.006</td>\n",
              "      <td>5.8</td>\n",
              "      <td>2.3</td>\n",
              "      <td>3.418</td>\n",
              "      <td>4.4</td>\n",
              "      <td>1.0</td>\n",
              "      <td>1.464</td>\n",
              "      <td>1.9</td>\n",
              "      <td>0.1</td>\n",
              "      <td>0.244</td>\n",
              "      <td>0.6</td>\n",
              "    </tr>\n",
              "    <tr>\n",
              "      <th>2</th>\n",
              "      <td>Iris-versicolor</td>\n",
              "      <td>4.9</td>\n",
              "      <td>5.936</td>\n",
              "      <td>7.0</td>\n",
              "      <td>2.0</td>\n",
              "      <td>2.770</td>\n",
              "      <td>3.4</td>\n",
              "      <td>3.0</td>\n",
              "      <td>4.260</td>\n",
              "      <td>5.1</td>\n",
              "      <td>1.0</td>\n",
              "      <td>1.326</td>\n",
              "      <td>1.8</td>\n",
              "    </tr>\n",
              "  </tbody>\n",
              "</table>\n",
              "</div>"
            ],
            "text/plain": [
              "             class  min(sepal_length)  ...  avg(petal_width)  max(petal_width)\n",
              "0   Iris-virginica                4.9  ...             2.026               2.5\n",
              "1      Iris-setosa                4.3  ...             0.244               0.6\n",
              "2  Iris-versicolor                4.9  ...             1.326               1.8\n",
              "\n",
              "[3 rows x 13 columns]"
            ]
          },
          "metadata": {
            "tags": []
          },
          "execution_count": 18
        }
      ]
    },
    {
      "cell_type": "markdown",
      "metadata": {
        "id": "nFNotmuMg63B",
        "colab_type": "text"
      },
      "source": [
        "**Transformers**\n",
        "\n",
        "A Transformer can be used to transform the data without needing to learn or fit anything from the data. Transformers represent functions that are used to map over our data.\n",
        "\n",
        "SQLTransformer has one parameter, which is the SQL statement that will be executed on the Dataframe. SQL transformer is used here to do the group-by performed previously."
      ]
    },
    {
      "cell_type": "code",
      "metadata": {
        "id": "VBjm2Y_Yh7BG",
        "colab_type": "code",
        "colab": {}
      },
      "source": [
        "from pyspark.ml.feature import SQLTransformer\n",
        "\n",
        "statement = '''\n",
        "SELECT \n",
        "    class, \n",
        "    min(sepal_length), avg(sepal_length), max(sepal_length),\n",
        "    min(sepal_width), avg(sepal_width), max(sepal_width),\n",
        "    min(petal_length), avg(petal_length), max(petal_length),\n",
        "    min(petal_width), avg(petal_width), max(petal_width)\n",
        "FROM iris\n",
        "GROUP BY class\n",
        "'''\n",
        "\n",
        "sql_transformer = SQLTransformer(statement=statement)\n"
      ],
      "execution_count": 19,
      "outputs": []
    },
    {
      "cell_type": "code",
      "metadata": {
        "id": "ClqUgw3tnffz",
        "colab_type": "code",
        "colab": {
          "base_uri": "https://localhost:8080/",
          "height": 210
        },
        "outputId": "481711da-dd71-45f6-b8ad-83901efbef43"
      },
      "source": [
        "sql_transformer.transform(iris).toPandas()"
      ],
      "execution_count": 20,
      "outputs": [
        {
          "output_type": "execute_result",
          "data": {
            "text/html": [
              "<div>\n",
              "<style scoped>\n",
              "    .dataframe tbody tr th:only-of-type {\n",
              "        vertical-align: middle;\n",
              "    }\n",
              "\n",
              "    .dataframe tbody tr th {\n",
              "        vertical-align: top;\n",
              "    }\n",
              "\n",
              "    .dataframe thead th {\n",
              "        text-align: right;\n",
              "    }\n",
              "</style>\n",
              "<table border=\"1\" class=\"dataframe\">\n",
              "  <thead>\n",
              "    <tr style=\"text-align: right;\">\n",
              "      <th></th>\n",
              "      <th>class</th>\n",
              "      <th>min(sepal_length)</th>\n",
              "      <th>avg(sepal_length)</th>\n",
              "      <th>max(sepal_length)</th>\n",
              "      <th>min(sepal_width)</th>\n",
              "      <th>avg(sepal_width)</th>\n",
              "      <th>max(sepal_width)</th>\n",
              "      <th>min(petal_length)</th>\n",
              "      <th>avg(petal_length)</th>\n",
              "      <th>max(petal_length)</th>\n",
              "      <th>min(petal_width)</th>\n",
              "      <th>avg(petal_width)</th>\n",
              "      <th>max(petal_width)</th>\n",
              "    </tr>\n",
              "  </thead>\n",
              "  <tbody>\n",
              "    <tr>\n",
              "      <th>0</th>\n",
              "      <td>Iris-virginica</td>\n",
              "      <td>4.9</td>\n",
              "      <td>6.588</td>\n",
              "      <td>7.9</td>\n",
              "      <td>2.2</td>\n",
              "      <td>2.974</td>\n",
              "      <td>3.8</td>\n",
              "      <td>4.5</td>\n",
              "      <td>5.552</td>\n",
              "      <td>6.9</td>\n",
              "      <td>1.4</td>\n",
              "      <td>2.026</td>\n",
              "      <td>2.5</td>\n",
              "    </tr>\n",
              "    <tr>\n",
              "      <th>1</th>\n",
              "      <td>Iris-setosa</td>\n",
              "      <td>4.3</td>\n",
              "      <td>5.006</td>\n",
              "      <td>5.8</td>\n",
              "      <td>2.3</td>\n",
              "      <td>3.418</td>\n",
              "      <td>4.4</td>\n",
              "      <td>1.0</td>\n",
              "      <td>1.464</td>\n",
              "      <td>1.9</td>\n",
              "      <td>0.1</td>\n",
              "      <td>0.244</td>\n",
              "      <td>0.6</td>\n",
              "    </tr>\n",
              "    <tr>\n",
              "      <th>2</th>\n",
              "      <td>Iris-versicolor</td>\n",
              "      <td>4.9</td>\n",
              "      <td>5.936</td>\n",
              "      <td>7.0</td>\n",
              "      <td>2.0</td>\n",
              "      <td>2.770</td>\n",
              "      <td>3.4</td>\n",
              "      <td>3.0</td>\n",
              "      <td>4.260</td>\n",
              "      <td>5.1</td>\n",
              "      <td>1.0</td>\n",
              "      <td>1.326</td>\n",
              "      <td>1.8</td>\n",
              "    </tr>\n",
              "  </tbody>\n",
              "</table>\n",
              "</div>"
            ],
            "text/plain": [
              "             class  min(sepal_length)  ...  avg(petal_width)  max(petal_width)\n",
              "0   Iris-virginica                4.9  ...             2.026               2.5\n",
              "1      Iris-setosa                4.3  ...             0.244               0.6\n",
              "2  Iris-versicolor                4.9  ...             1.326               1.8\n",
              "\n",
              "[3 rows x 13 columns]"
            ]
          },
          "metadata": {
            "tags": []
          },
          "execution_count": 20
        }
      ]
    },
    {
      "cell_type": "markdown",
      "metadata": {
        "id": "0UkODwfth8aQ",
        "colab_type": "text"
      },
      "source": [
        "The output is the same one obtained when ran the SQL command. SQLTransformer is useful when having preprocessing that needs to be performed on the data before other steps in the pipeline."
      ]
    },
    {
      "cell_type": "markdown",
      "metadata": {
        "id": "dxjB7g0aiZbU",
        "colab_type": "text"
      },
      "source": [
        "**Binarizer**\n",
        "\n",
        "The Binarizer is a Transformer that applies a threshold to a numeric field, turning is into 0s (when belowe the threshold) and 1s (when above teh threshold). The Binarizer returns a modified version of the input Dataframe and it is used to convert a real valued property into a class."
      ]
    },
    {
      "cell_type": "code",
      "metadata": {
        "id": "tltqJLsmnmSQ",
        "colab_type": "code",
        "colab": {}
      },
      "source": [
        "from pyspark.ml.feature import Binarizer\n",
        "\n",
        "binarizer = Binarizer(\n",
        "    inputCol = 'sepal_length',\n",
        "    outputCol = 'sepal_lenght_above_5',\n",
        "    threshold = 5.0\n",
        ")"
      ],
      "execution_count": 21,
      "outputs": []
    },
    {
      "cell_type": "code",
      "metadata": {
        "id": "NkevSLOgqAGX",
        "colab_type": "code",
        "colab": {
          "base_uri": "https://localhost:8080/",
          "height": 200
        },
        "outputId": "3fdadfd0-bb3f-4c07-f0e2-bd59c7f4705d"
      },
      "source": [
        "binarizer.transform(iris).limit(5).toPandas()"
      ],
      "execution_count": 22,
      "outputs": [
        {
          "output_type": "execute_result",
          "data": {
            "text/html": [
              "<div>\n",
              "<style scoped>\n",
              "    .dataframe tbody tr th:only-of-type {\n",
              "        vertical-align: middle;\n",
              "    }\n",
              "\n",
              "    .dataframe tbody tr th {\n",
              "        vertical-align: top;\n",
              "    }\n",
              "\n",
              "    .dataframe thead th {\n",
              "        text-align: right;\n",
              "    }\n",
              "</style>\n",
              "<table border=\"1\" class=\"dataframe\">\n",
              "  <thead>\n",
              "    <tr style=\"text-align: right;\">\n",
              "      <th></th>\n",
              "      <th>sepal_length</th>\n",
              "      <th>sepal_width</th>\n",
              "      <th>petal_length</th>\n",
              "      <th>petal_width</th>\n",
              "      <th>class</th>\n",
              "      <th>sepal_lenght_above_5</th>\n",
              "    </tr>\n",
              "  </thead>\n",
              "  <tbody>\n",
              "    <tr>\n",
              "      <th>0</th>\n",
              "      <td>5.1</td>\n",
              "      <td>3.5</td>\n",
              "      <td>1.4</td>\n",
              "      <td>0.2</td>\n",
              "      <td>Iris-setosa</td>\n",
              "      <td>1.0</td>\n",
              "    </tr>\n",
              "    <tr>\n",
              "      <th>1</th>\n",
              "      <td>4.9</td>\n",
              "      <td>3.0</td>\n",
              "      <td>1.4</td>\n",
              "      <td>0.2</td>\n",
              "      <td>Iris-setosa</td>\n",
              "      <td>0.0</td>\n",
              "    </tr>\n",
              "    <tr>\n",
              "      <th>2</th>\n",
              "      <td>4.7</td>\n",
              "      <td>3.2</td>\n",
              "      <td>1.3</td>\n",
              "      <td>0.2</td>\n",
              "      <td>Iris-setosa</td>\n",
              "      <td>0.0</td>\n",
              "    </tr>\n",
              "    <tr>\n",
              "      <th>3</th>\n",
              "      <td>4.6</td>\n",
              "      <td>3.1</td>\n",
              "      <td>1.5</td>\n",
              "      <td>0.2</td>\n",
              "      <td>Iris-setosa</td>\n",
              "      <td>0.0</td>\n",
              "    </tr>\n",
              "    <tr>\n",
              "      <th>4</th>\n",
              "      <td>5.0</td>\n",
              "      <td>3.6</td>\n",
              "      <td>1.4</td>\n",
              "      <td>0.2</td>\n",
              "      <td>Iris-setosa</td>\n",
              "      <td>0.0</td>\n",
              "    </tr>\n",
              "  </tbody>\n",
              "</table>\n",
              "</div>"
            ],
            "text/plain": [
              "   sepal_length  sepal_width  ...        class  sepal_lenght_above_5\n",
              "0           5.1          3.5  ...  Iris-setosa                   1.0\n",
              "1           4.9          3.0  ...  Iris-setosa                   0.0\n",
              "2           4.7          3.2  ...  Iris-setosa                   0.0\n",
              "3           4.6          3.1  ...  Iris-setosa                   0.0\n",
              "4           5.0          3.6  ...  Iris-setosa                   0.0\n",
              "\n",
              "[5 rows x 6 columns]"
            ]
          },
          "metadata": {
            "tags": []
          },
          "execution_count": 22
        }
      ]
    },
    {
      "cell_type": "markdown",
      "metadata": {
        "id": "ClPV34JDjC6J",
        "colab_type": "text"
      },
      "source": [
        "**VectorAssembler**\n",
        "\n",
        "Another important Transformer is the VectorAssembler. It takes a list of numeric and vector-valued columns and constructs a single vector. This is useful because all MLlib's machine learning algorithms expect a single-valued input colums for features."
      ]
    },
    {
      "cell_type": "code",
      "metadata": {
        "id": "VoZGoHhaqIaS",
        "colab_type": "code",
        "colab": {}
      },
      "source": [
        "from pyspark.ml.feature import VectorAssembler\n",
        "\n",
        "assembler = VectorAssembler(\n",
        "    inputCols = ['sepal_length', 'sepal_width', 'petal_length', 'petal_width'],\n",
        "    outputCol= 'features'\n",
        ")"
      ],
      "execution_count": 23,
      "outputs": []
    },
    {
      "cell_type": "code",
      "metadata": {
        "id": "eH5nPAvDuIco",
        "colab_type": "code",
        "colab": {}
      },
      "source": [
        "iris_w_vecs = assembler.transform(iris).persist()"
      ],
      "execution_count": 24,
      "outputs": []
    },
    {
      "cell_type": "code",
      "metadata": {
        "id": "IihyU8asuPTY",
        "colab_type": "code",
        "colab": {
          "base_uri": "https://localhost:8080/",
          "height": 200
        },
        "outputId": "c1596cf4-5693-465f-92f5-5b0e0dce0413"
      },
      "source": [
        "iris_w_vecs.limit(5).toPandas()"
      ],
      "execution_count": 25,
      "outputs": [
        {
          "output_type": "execute_result",
          "data": {
            "text/html": [
              "<div>\n",
              "<style scoped>\n",
              "    .dataframe tbody tr th:only-of-type {\n",
              "        vertical-align: middle;\n",
              "    }\n",
              "\n",
              "    .dataframe tbody tr th {\n",
              "        vertical-align: top;\n",
              "    }\n",
              "\n",
              "    .dataframe thead th {\n",
              "        text-align: right;\n",
              "    }\n",
              "</style>\n",
              "<table border=\"1\" class=\"dataframe\">\n",
              "  <thead>\n",
              "    <tr style=\"text-align: right;\">\n",
              "      <th></th>\n",
              "      <th>sepal_length</th>\n",
              "      <th>sepal_width</th>\n",
              "      <th>petal_length</th>\n",
              "      <th>petal_width</th>\n",
              "      <th>class</th>\n",
              "      <th>features</th>\n",
              "    </tr>\n",
              "  </thead>\n",
              "  <tbody>\n",
              "    <tr>\n",
              "      <th>0</th>\n",
              "      <td>5.1</td>\n",
              "      <td>3.5</td>\n",
              "      <td>1.4</td>\n",
              "      <td>0.2</td>\n",
              "      <td>Iris-setosa</td>\n",
              "      <td>[5.1, 3.5, 1.4, 0.2]</td>\n",
              "    </tr>\n",
              "    <tr>\n",
              "      <th>1</th>\n",
              "      <td>4.9</td>\n",
              "      <td>3.0</td>\n",
              "      <td>1.4</td>\n",
              "      <td>0.2</td>\n",
              "      <td>Iris-setosa</td>\n",
              "      <td>[4.9, 3.0, 1.4, 0.2]</td>\n",
              "    </tr>\n",
              "    <tr>\n",
              "      <th>2</th>\n",
              "      <td>4.7</td>\n",
              "      <td>3.2</td>\n",
              "      <td>1.3</td>\n",
              "      <td>0.2</td>\n",
              "      <td>Iris-setosa</td>\n",
              "      <td>[4.7, 3.2, 1.3, 0.2]</td>\n",
              "    </tr>\n",
              "    <tr>\n",
              "      <th>3</th>\n",
              "      <td>4.6</td>\n",
              "      <td>3.1</td>\n",
              "      <td>1.5</td>\n",
              "      <td>0.2</td>\n",
              "      <td>Iris-setosa</td>\n",
              "      <td>[4.6, 3.1, 1.5, 0.2]</td>\n",
              "    </tr>\n",
              "    <tr>\n",
              "      <th>4</th>\n",
              "      <td>5.0</td>\n",
              "      <td>3.6</td>\n",
              "      <td>1.4</td>\n",
              "      <td>0.2</td>\n",
              "      <td>Iris-setosa</td>\n",
              "      <td>[5.0, 3.6, 1.4, 0.2]</td>\n",
              "    </tr>\n",
              "  </tbody>\n",
              "</table>\n",
              "</div>"
            ],
            "text/plain": [
              "   sepal_length  sepal_width  ...        class              features\n",
              "0           5.1          3.5  ...  Iris-setosa  [5.1, 3.5, 1.4, 0.2]\n",
              "1           4.9          3.0  ...  Iris-setosa  [4.9, 3.0, 1.4, 0.2]\n",
              "2           4.7          3.2  ...  Iris-setosa  [4.7, 3.2, 1.3, 0.2]\n",
              "3           4.6          3.1  ...  Iris-setosa  [4.6, 3.1, 1.5, 0.2]\n",
              "4           5.0          3.6  ...  Iris-setosa  [5.0, 3.6, 1.4, 0.2]\n",
              "\n",
              "[5 rows x 6 columns]"
            ]
          },
          "metadata": {
            "tags": []
          },
          "execution_count": 25
        }
      ]
    },
    {
      "cell_type": "markdown",
      "metadata": {
        "id": "36x8uKtcjxgH",
        "colab_type": "text"
      },
      "source": [
        "**MinMaxScaler**\n",
        "\n",
        "The MinMaxScaler allows to scale the data to be between 0 and 1."
      ]
    },
    {
      "cell_type": "code",
      "metadata": {
        "id": "xzLq1dguuR99",
        "colab_type": "code",
        "colab": {}
      },
      "source": [
        "from pyspark.ml.feature import MinMaxScaler\n",
        "\n",
        "scaler = MinMaxScaler(\n",
        "    inputCol = 'features',\n",
        "    outputCol = 'petal_length_scaled'\n",
        ")"
      ],
      "execution_count": 26,
      "outputs": []
    },
    {
      "cell_type": "code",
      "metadata": {
        "id": "YAPQExumuyQQ",
        "colab_type": "code",
        "colab": {}
      },
      "source": [
        "scaler_model = scaler.fit(iris_w_vecs)"
      ],
      "execution_count": 27,
      "outputs": []
    },
    {
      "cell_type": "code",
      "metadata": {
        "id": "R-iHbT98u2nn",
        "colab_type": "code",
        "colab": {
          "base_uri": "https://localhost:8080/",
          "height": 200
        },
        "outputId": "3b5a57fd-5368-459c-f51b-25e51dec0161"
      },
      "source": [
        "scaler_model.transform(iris_w_vecs).limit(5).toPandas()"
      ],
      "execution_count": 28,
      "outputs": [
        {
          "output_type": "execute_result",
          "data": {
            "text/html": [
              "<div>\n",
              "<style scoped>\n",
              "    .dataframe tbody tr th:only-of-type {\n",
              "        vertical-align: middle;\n",
              "    }\n",
              "\n",
              "    .dataframe tbody tr th {\n",
              "        vertical-align: top;\n",
              "    }\n",
              "\n",
              "    .dataframe thead th {\n",
              "        text-align: right;\n",
              "    }\n",
              "</style>\n",
              "<table border=\"1\" class=\"dataframe\">\n",
              "  <thead>\n",
              "    <tr style=\"text-align: right;\">\n",
              "      <th></th>\n",
              "      <th>sepal_length</th>\n",
              "      <th>sepal_width</th>\n",
              "      <th>petal_length</th>\n",
              "      <th>petal_width</th>\n",
              "      <th>class</th>\n",
              "      <th>features</th>\n",
              "      <th>petal_length_scaled</th>\n",
              "    </tr>\n",
              "  </thead>\n",
              "  <tbody>\n",
              "    <tr>\n",
              "      <th>0</th>\n",
              "      <td>5.1</td>\n",
              "      <td>3.5</td>\n",
              "      <td>1.4</td>\n",
              "      <td>0.2</td>\n",
              "      <td>Iris-setosa</td>\n",
              "      <td>[5.1, 3.5, 1.4, 0.2]</td>\n",
              "      <td>[0.22222222222222213, 0.625, 0.067796610169491...</td>\n",
              "    </tr>\n",
              "    <tr>\n",
              "      <th>1</th>\n",
              "      <td>4.9</td>\n",
              "      <td>3.0</td>\n",
              "      <td>1.4</td>\n",
              "      <td>0.2</td>\n",
              "      <td>Iris-setosa</td>\n",
              "      <td>[4.9, 3.0, 1.4, 0.2]</td>\n",
              "      <td>[0.1666666666666668, 0.41666666666666663, 0.06...</td>\n",
              "    </tr>\n",
              "    <tr>\n",
              "      <th>2</th>\n",
              "      <td>4.7</td>\n",
              "      <td>3.2</td>\n",
              "      <td>1.3</td>\n",
              "      <td>0.2</td>\n",
              "      <td>Iris-setosa</td>\n",
              "      <td>[4.7, 3.2, 1.3, 0.2]</td>\n",
              "      <td>[0.11111111111111119, 0.5, 0.05084745762711865...</td>\n",
              "    </tr>\n",
              "    <tr>\n",
              "      <th>3</th>\n",
              "      <td>4.6</td>\n",
              "      <td>3.1</td>\n",
              "      <td>1.5</td>\n",
              "      <td>0.2</td>\n",
              "      <td>Iris-setosa</td>\n",
              "      <td>[4.6, 3.1, 1.5, 0.2]</td>\n",
              "      <td>[0.08333333333333327, 0.4583333333333333, 0.08...</td>\n",
              "    </tr>\n",
              "    <tr>\n",
              "      <th>4</th>\n",
              "      <td>5.0</td>\n",
              "      <td>3.6</td>\n",
              "      <td>1.4</td>\n",
              "      <td>0.2</td>\n",
              "      <td>Iris-setosa</td>\n",
              "      <td>[5.0, 3.6, 1.4, 0.2]</td>\n",
              "      <td>[0.19444444444444448, 0.6666666666666666, 0.06...</td>\n",
              "    </tr>\n",
              "  </tbody>\n",
              "</table>\n",
              "</div>"
            ],
            "text/plain": [
              "   sepal_length  ...                                petal_length_scaled\n",
              "0           5.1  ...  [0.22222222222222213, 0.625, 0.067796610169491...\n",
              "1           4.9  ...  [0.1666666666666668, 0.41666666666666663, 0.06...\n",
              "2           4.7  ...  [0.11111111111111119, 0.5, 0.05084745762711865...\n",
              "3           4.6  ...  [0.08333333333333327, 0.4583333333333333, 0.08...\n",
              "4           5.0  ...  [0.19444444444444448, 0.6666666666666666, 0.06...\n",
              "\n",
              "[5 rows x 7 columns]"
            ]
          },
          "metadata": {
            "tags": []
          },
          "execution_count": 28
        }
      ]
    },
    {
      "cell_type": "markdown",
      "metadata": {
        "id": "vFst35rPj_LN",
        "colab_type": "text"
      },
      "source": [
        "The petal_length_scaled colums now has values between 0 and 1. This can hels some algorithms, specifically those that have difficulty combining features of different scales."
      ]
    },
    {
      "cell_type": "markdown",
      "metadata": {
        "id": "TAKwUmxCkZYo",
        "colab_type": "text"
      },
      "source": [
        "## **Building the Model** \n",
        "\n",
        "The goal is to predict the class from the other features, and for this I will use a decision tree. First, the target must be converted into index values.\n",
        "\n",
        "The StringIdexer will turn the class values into indices, as it is simpler to implement most training algorithms with the assumption that the target is a number.\n",
        "\n",
        "IndexToString is used to map the predictions, which will be indices, back to string values."
      ]
    },
    {
      "cell_type": "code",
      "metadata": {
        "id": "goaoICTYvDqF",
        "colab_type": "code",
        "colab": {}
      },
      "source": [
        "from pyspark.ml.feature import StringIndexer, IndexToString\n",
        "\n",
        "indexer = StringIndexer(inputCol = 'class', outputCol= 'class_ix')\n",
        "indexer_model = indexer.fit(iris_w_vecs)\n",
        "\n",
        "index2string = IndexToString(\n",
        "    inputCol = indexer_model.getOrDefault('outputCol'),\n",
        "    outputCol = 'pred_class',\n",
        "    labels = indexer_model.labels\n",
        ")"
      ],
      "execution_count": 29,
      "outputs": []
    },
    {
      "cell_type": "code",
      "metadata": {
        "id": "WURFkzagwg0a",
        "colab_type": "code",
        "colab": {}
      },
      "source": [
        "iris_indexed = indexer_model.transform(iris_w_vecs)"
      ],
      "execution_count": 30,
      "outputs": []
    },
    {
      "cell_type": "markdown",
      "metadata": {
        "id": "B-eoZ-pMljLo",
        "colab_type": "text"
      },
      "source": [
        "The next step consists of training the DecisionTreeClassifier."
      ]
    },
    {
      "cell_type": "code",
      "metadata": {
        "id": "85IEExodwr6-",
        "colab_type": "code",
        "colab": {}
      },
      "source": [
        "from pyspark.ml.classification import DecisionTreeClassifier\n",
        "\n",
        "dt_clfr = DecisionTreeClassifier(\n",
        "    featuresCol = 'features',\n",
        "    labelCol = 'class_ix',\n",
        "    maxDepth = 5,\n",
        "    impurity ='gini'\n",
        ")"
      ],
      "execution_count": 31,
      "outputs": []
    },
    {
      "cell_type": "code",
      "metadata": {
        "id": "4spaGvesxBEL",
        "colab_type": "code",
        "colab": {}
      },
      "source": [
        "dt_clfr_model = dt_clfr.fit(iris_indexed)"
      ],
      "execution_count": 32,
      "outputs": []
    },
    {
      "cell_type": "code",
      "metadata": {
        "id": "Q83M1DeJxN6i",
        "colab_type": "code",
        "colab": {}
      },
      "source": [
        "iris_w_pred = dt_clfr_model.transform(iris_indexed)"
      ],
      "execution_count": 33,
      "outputs": []
    },
    {
      "cell_type": "code",
      "metadata": {
        "id": "12nRbRX_xUIy",
        "colab_type": "code",
        "colab": {
          "base_uri": "https://localhost:8080/",
          "height": 200
        },
        "outputId": "4ccc117e-1ba3-4dfa-f2fc-2fce2d70b002"
      },
      "source": [
        "iris_w_pred.limit(5).toPandas()"
      ],
      "execution_count": 34,
      "outputs": [
        {
          "output_type": "execute_result",
          "data": {
            "text/html": [
              "<div>\n",
              "<style scoped>\n",
              "    .dataframe tbody tr th:only-of-type {\n",
              "        vertical-align: middle;\n",
              "    }\n",
              "\n",
              "    .dataframe tbody tr th {\n",
              "        vertical-align: top;\n",
              "    }\n",
              "\n",
              "    .dataframe thead th {\n",
              "        text-align: right;\n",
              "    }\n",
              "</style>\n",
              "<table border=\"1\" class=\"dataframe\">\n",
              "  <thead>\n",
              "    <tr style=\"text-align: right;\">\n",
              "      <th></th>\n",
              "      <th>sepal_length</th>\n",
              "      <th>sepal_width</th>\n",
              "      <th>petal_length</th>\n",
              "      <th>petal_width</th>\n",
              "      <th>class</th>\n",
              "      <th>features</th>\n",
              "      <th>class_ix</th>\n",
              "      <th>rawPrediction</th>\n",
              "      <th>probability</th>\n",
              "      <th>prediction</th>\n",
              "    </tr>\n",
              "  </thead>\n",
              "  <tbody>\n",
              "    <tr>\n",
              "      <th>0</th>\n",
              "      <td>5.1</td>\n",
              "      <td>3.5</td>\n",
              "      <td>1.4</td>\n",
              "      <td>0.2</td>\n",
              "      <td>Iris-setosa</td>\n",
              "      <td>[5.1, 3.5, 1.4, 0.2]</td>\n",
              "      <td>0.0</td>\n",
              "      <td>[50.0, 0.0, 0.0]</td>\n",
              "      <td>[1.0, 0.0, 0.0]</td>\n",
              "      <td>0.0</td>\n",
              "    </tr>\n",
              "    <tr>\n",
              "      <th>1</th>\n",
              "      <td>4.9</td>\n",
              "      <td>3.0</td>\n",
              "      <td>1.4</td>\n",
              "      <td>0.2</td>\n",
              "      <td>Iris-setosa</td>\n",
              "      <td>[4.9, 3.0, 1.4, 0.2]</td>\n",
              "      <td>0.0</td>\n",
              "      <td>[50.0, 0.0, 0.0]</td>\n",
              "      <td>[1.0, 0.0, 0.0]</td>\n",
              "      <td>0.0</td>\n",
              "    </tr>\n",
              "    <tr>\n",
              "      <th>2</th>\n",
              "      <td>4.7</td>\n",
              "      <td>3.2</td>\n",
              "      <td>1.3</td>\n",
              "      <td>0.2</td>\n",
              "      <td>Iris-setosa</td>\n",
              "      <td>[4.7, 3.2, 1.3, 0.2]</td>\n",
              "      <td>0.0</td>\n",
              "      <td>[50.0, 0.0, 0.0]</td>\n",
              "      <td>[1.0, 0.0, 0.0]</td>\n",
              "      <td>0.0</td>\n",
              "    </tr>\n",
              "    <tr>\n",
              "      <th>3</th>\n",
              "      <td>4.6</td>\n",
              "      <td>3.1</td>\n",
              "      <td>1.5</td>\n",
              "      <td>0.2</td>\n",
              "      <td>Iris-setosa</td>\n",
              "      <td>[4.6, 3.1, 1.5, 0.2]</td>\n",
              "      <td>0.0</td>\n",
              "      <td>[50.0, 0.0, 0.0]</td>\n",
              "      <td>[1.0, 0.0, 0.0]</td>\n",
              "      <td>0.0</td>\n",
              "    </tr>\n",
              "    <tr>\n",
              "      <th>4</th>\n",
              "      <td>5.0</td>\n",
              "      <td>3.6</td>\n",
              "      <td>1.4</td>\n",
              "      <td>0.2</td>\n",
              "      <td>Iris-setosa</td>\n",
              "      <td>[5.0, 3.6, 1.4, 0.2]</td>\n",
              "      <td>0.0</td>\n",
              "      <td>[50.0, 0.0, 0.0]</td>\n",
              "      <td>[1.0, 0.0, 0.0]</td>\n",
              "      <td>0.0</td>\n",
              "    </tr>\n",
              "  </tbody>\n",
              "</table>\n",
              "</div>"
            ],
            "text/plain": [
              "   sepal_length  sepal_width  ...      probability  prediction\n",
              "0           5.1          3.5  ...  [1.0, 0.0, 0.0]         0.0\n",
              "1           4.9          3.0  ...  [1.0, 0.0, 0.0]         0.0\n",
              "2           4.7          3.2  ...  [1.0, 0.0, 0.0]         0.0\n",
              "3           4.6          3.1  ...  [1.0, 0.0, 0.0]         0.0\n",
              "4           5.0          3.6  ...  [1.0, 0.0, 0.0]         0.0\n",
              "\n",
              "[5 rows x 10 columns]"
            ]
          },
          "metadata": {
            "tags": []
          },
          "execution_count": 34
        }
      ]
    },
    {
      "cell_type": "markdown",
      "metadata": {
        "id": "H53hysKaltb-",
        "colab_type": "text"
      },
      "source": [
        "Here the predicted classes are mapped back to their string form using IndexToString."
      ]
    },
    {
      "cell_type": "code",
      "metadata": {
        "id": "U-NxX021xYMu",
        "colab_type": "code",
        "colab": {}
      },
      "source": [
        "iris_w_pred_class = index2string.transform(iris_w_pred)"
      ],
      "execution_count": 35,
      "outputs": []
    },
    {
      "cell_type": "code",
      "metadata": {
        "id": "kPPJ5pKaxieA",
        "colab_type": "code",
        "colab": {
          "base_uri": "https://localhost:8080/",
          "height": 352
        },
        "outputId": "d8d2407e-72f6-4993-8c97-4742088f6774"
      },
      "source": [
        "iris_w_pred_class.limit(10).toPandas()"
      ],
      "execution_count": 36,
      "outputs": [
        {
          "output_type": "execute_result",
          "data": {
            "text/html": [
              "<div>\n",
              "<style scoped>\n",
              "    .dataframe tbody tr th:only-of-type {\n",
              "        vertical-align: middle;\n",
              "    }\n",
              "\n",
              "    .dataframe tbody tr th {\n",
              "        vertical-align: top;\n",
              "    }\n",
              "\n",
              "    .dataframe thead th {\n",
              "        text-align: right;\n",
              "    }\n",
              "</style>\n",
              "<table border=\"1\" class=\"dataframe\">\n",
              "  <thead>\n",
              "    <tr style=\"text-align: right;\">\n",
              "      <th></th>\n",
              "      <th>sepal_length</th>\n",
              "      <th>sepal_width</th>\n",
              "      <th>petal_length</th>\n",
              "      <th>petal_width</th>\n",
              "      <th>class</th>\n",
              "      <th>features</th>\n",
              "      <th>class_ix</th>\n",
              "      <th>rawPrediction</th>\n",
              "      <th>probability</th>\n",
              "      <th>prediction</th>\n",
              "      <th>pred_class</th>\n",
              "    </tr>\n",
              "  </thead>\n",
              "  <tbody>\n",
              "    <tr>\n",
              "      <th>0</th>\n",
              "      <td>5.1</td>\n",
              "      <td>3.5</td>\n",
              "      <td>1.4</td>\n",
              "      <td>0.2</td>\n",
              "      <td>Iris-setosa</td>\n",
              "      <td>[5.1, 3.5, 1.4, 0.2]</td>\n",
              "      <td>0.0</td>\n",
              "      <td>[50.0, 0.0, 0.0]</td>\n",
              "      <td>[1.0, 0.0, 0.0]</td>\n",
              "      <td>0.0</td>\n",
              "      <td>Iris-setosa</td>\n",
              "    </tr>\n",
              "    <tr>\n",
              "      <th>1</th>\n",
              "      <td>4.9</td>\n",
              "      <td>3.0</td>\n",
              "      <td>1.4</td>\n",
              "      <td>0.2</td>\n",
              "      <td>Iris-setosa</td>\n",
              "      <td>[4.9, 3.0, 1.4, 0.2]</td>\n",
              "      <td>0.0</td>\n",
              "      <td>[50.0, 0.0, 0.0]</td>\n",
              "      <td>[1.0, 0.0, 0.0]</td>\n",
              "      <td>0.0</td>\n",
              "      <td>Iris-setosa</td>\n",
              "    </tr>\n",
              "    <tr>\n",
              "      <th>2</th>\n",
              "      <td>4.7</td>\n",
              "      <td>3.2</td>\n",
              "      <td>1.3</td>\n",
              "      <td>0.2</td>\n",
              "      <td>Iris-setosa</td>\n",
              "      <td>[4.7, 3.2, 1.3, 0.2]</td>\n",
              "      <td>0.0</td>\n",
              "      <td>[50.0, 0.0, 0.0]</td>\n",
              "      <td>[1.0, 0.0, 0.0]</td>\n",
              "      <td>0.0</td>\n",
              "      <td>Iris-setosa</td>\n",
              "    </tr>\n",
              "    <tr>\n",
              "      <th>3</th>\n",
              "      <td>4.6</td>\n",
              "      <td>3.1</td>\n",
              "      <td>1.5</td>\n",
              "      <td>0.2</td>\n",
              "      <td>Iris-setosa</td>\n",
              "      <td>[4.6, 3.1, 1.5, 0.2]</td>\n",
              "      <td>0.0</td>\n",
              "      <td>[50.0, 0.0, 0.0]</td>\n",
              "      <td>[1.0, 0.0, 0.0]</td>\n",
              "      <td>0.0</td>\n",
              "      <td>Iris-setosa</td>\n",
              "    </tr>\n",
              "    <tr>\n",
              "      <th>4</th>\n",
              "      <td>5.0</td>\n",
              "      <td>3.6</td>\n",
              "      <td>1.4</td>\n",
              "      <td>0.2</td>\n",
              "      <td>Iris-setosa</td>\n",
              "      <td>[5.0, 3.6, 1.4, 0.2]</td>\n",
              "      <td>0.0</td>\n",
              "      <td>[50.0, 0.0, 0.0]</td>\n",
              "      <td>[1.0, 0.0, 0.0]</td>\n",
              "      <td>0.0</td>\n",
              "      <td>Iris-setosa</td>\n",
              "    </tr>\n",
              "    <tr>\n",
              "      <th>5</th>\n",
              "      <td>5.4</td>\n",
              "      <td>3.9</td>\n",
              "      <td>1.7</td>\n",
              "      <td>0.4</td>\n",
              "      <td>Iris-setosa</td>\n",
              "      <td>[5.4, 3.9, 1.7, 0.4]</td>\n",
              "      <td>0.0</td>\n",
              "      <td>[50.0, 0.0, 0.0]</td>\n",
              "      <td>[1.0, 0.0, 0.0]</td>\n",
              "      <td>0.0</td>\n",
              "      <td>Iris-setosa</td>\n",
              "    </tr>\n",
              "    <tr>\n",
              "      <th>6</th>\n",
              "      <td>4.6</td>\n",
              "      <td>3.4</td>\n",
              "      <td>1.4</td>\n",
              "      <td>0.3</td>\n",
              "      <td>Iris-setosa</td>\n",
              "      <td>[4.6, 3.4, 1.4, 0.3]</td>\n",
              "      <td>0.0</td>\n",
              "      <td>[50.0, 0.0, 0.0]</td>\n",
              "      <td>[1.0, 0.0, 0.0]</td>\n",
              "      <td>0.0</td>\n",
              "      <td>Iris-setosa</td>\n",
              "    </tr>\n",
              "    <tr>\n",
              "      <th>7</th>\n",
              "      <td>5.0</td>\n",
              "      <td>3.4</td>\n",
              "      <td>1.5</td>\n",
              "      <td>0.2</td>\n",
              "      <td>Iris-setosa</td>\n",
              "      <td>[5.0, 3.4, 1.5, 0.2]</td>\n",
              "      <td>0.0</td>\n",
              "      <td>[50.0, 0.0, 0.0]</td>\n",
              "      <td>[1.0, 0.0, 0.0]</td>\n",
              "      <td>0.0</td>\n",
              "      <td>Iris-setosa</td>\n",
              "    </tr>\n",
              "    <tr>\n",
              "      <th>8</th>\n",
              "      <td>4.4</td>\n",
              "      <td>2.9</td>\n",
              "      <td>1.4</td>\n",
              "      <td>0.2</td>\n",
              "      <td>Iris-setosa</td>\n",
              "      <td>[4.4, 2.9, 1.4, 0.2]</td>\n",
              "      <td>0.0</td>\n",
              "      <td>[50.0, 0.0, 0.0]</td>\n",
              "      <td>[1.0, 0.0, 0.0]</td>\n",
              "      <td>0.0</td>\n",
              "      <td>Iris-setosa</td>\n",
              "    </tr>\n",
              "    <tr>\n",
              "      <th>9</th>\n",
              "      <td>4.9</td>\n",
              "      <td>3.1</td>\n",
              "      <td>1.5</td>\n",
              "      <td>0.1</td>\n",
              "      <td>Iris-setosa</td>\n",
              "      <td>[4.9, 3.1, 1.5, 0.1]</td>\n",
              "      <td>0.0</td>\n",
              "      <td>[50.0, 0.0, 0.0]</td>\n",
              "      <td>[1.0, 0.0, 0.0]</td>\n",
              "      <td>0.0</td>\n",
              "      <td>Iris-setosa</td>\n",
              "    </tr>\n",
              "  </tbody>\n",
              "</table>\n",
              "</div>"
            ],
            "text/plain": [
              "   sepal_length  sepal_width  ...  prediction   pred_class\n",
              "0           5.1          3.5  ...         0.0  Iris-setosa\n",
              "1           4.9          3.0  ...         0.0  Iris-setosa\n",
              "2           4.7          3.2  ...         0.0  Iris-setosa\n",
              "3           4.6          3.1  ...         0.0  Iris-setosa\n",
              "4           5.0          3.6  ...         0.0  Iris-setosa\n",
              "5           5.4          3.9  ...         0.0  Iris-setosa\n",
              "6           4.6          3.4  ...         0.0  Iris-setosa\n",
              "7           5.0          3.4  ...         0.0  Iris-setosa\n",
              "8           4.4          2.9  ...         0.0  Iris-setosa\n",
              "9           4.9          3.1  ...         0.0  Iris-setosa\n",
              "\n",
              "[10 rows x 11 columns]"
            ]
          },
          "metadata": {
            "tags": []
          },
          "execution_count": 36
        }
      ]
    },
    {
      "cell_type": "markdown",
      "metadata": {
        "id": "L4IA0wL4mFAC",
        "colab_type": "text"
      },
      "source": [
        "**Evaluator**\n",
        "\n",
        "In order to see how weel did the model fit the data, MultiClassificationEvaluator is used to see how many predictions match the true class."
      ]
    },
    {
      "cell_type": "code",
      "metadata": {
        "id": "GNfQUV46xqwE",
        "colab_type": "code",
        "colab": {}
      },
      "source": [
        "from pyspark.ml.evaluation import MulticlassClassificationEvaluator\n",
        "\n",
        "evaluator = MulticlassClassificationEvaluator(\n",
        "    labelCol = 'class_ix',\n",
        "    metricName ='accuracy'\n",
        ")"
      ],
      "execution_count": 37,
      "outputs": []
    },
    {
      "cell_type": "code",
      "metadata": {
        "id": "AJlXe6ctx_3m",
        "colab_type": "code",
        "colab": {
          "base_uri": "https://localhost:8080/",
          "height": 35
        },
        "outputId": "fde24171-1191-47fd-978e-751ddb74d94b"
      },
      "source": [
        "evaluator.evaluate(iris_w_pred_class)"
      ],
      "execution_count": 38,
      "outputs": [
        {
          "output_type": "execute_result",
          "data": {
            "text/plain": [
              "1.0"
            ]
          },
          "metadata": {
            "tags": []
          },
          "execution_count": 38
        }
      ]
    },
    {
      "cell_type": "markdown",
      "metadata": {
        "id": "68ZCDl3jmul2",
        "colab_type": "text"
      },
      "source": [
        "This seems to good. The model might be overfitting, so using cross-validation to evaluate the model is a better idea."
      ]
    },
    {
      "cell_type": "markdown",
      "metadata": {
        "id": "4cwxVSSLmm72",
        "colab_type": "text"
      },
      "source": [
        "**Building a Pipeline**"
      ]
    },
    {
      "cell_type": "code",
      "metadata": {
        "id": "fRNTxIO0yJkC",
        "colab_type": "code",
        "colab": {}
      },
      "source": [
        "from pyspark.ml import Pipeline\n",
        "\n",
        "pipeline = Pipeline(\n",
        "    stages = [assembler, indexer, dt_clfr, index2string]\n",
        ")"
      ],
      "execution_count": 39,
      "outputs": []
    },
    {
      "cell_type": "code",
      "metadata": {
        "id": "F8kFuxOVyarR",
        "colab_type": "code",
        "colab": {}
      },
      "source": [
        "pipeline_model = pipeline.fit(iris)"
      ],
      "execution_count": 40,
      "outputs": []
    },
    {
      "cell_type": "code",
      "metadata": {
        "id": "p5KlnZqQyfIp",
        "colab_type": "code",
        "colab": {
          "base_uri": "https://localhost:8080/",
          "height": 200
        },
        "outputId": "89ea425b-2754-4b79-dca9-ce91d3476e4f"
      },
      "source": [
        "pipeline_model.transform(iris).limit(5).toPandas()"
      ],
      "execution_count": 41,
      "outputs": [
        {
          "output_type": "execute_result",
          "data": {
            "text/html": [
              "<div>\n",
              "<style scoped>\n",
              "    .dataframe tbody tr th:only-of-type {\n",
              "        vertical-align: middle;\n",
              "    }\n",
              "\n",
              "    .dataframe tbody tr th {\n",
              "        vertical-align: top;\n",
              "    }\n",
              "\n",
              "    .dataframe thead th {\n",
              "        text-align: right;\n",
              "    }\n",
              "</style>\n",
              "<table border=\"1\" class=\"dataframe\">\n",
              "  <thead>\n",
              "    <tr style=\"text-align: right;\">\n",
              "      <th></th>\n",
              "      <th>sepal_length</th>\n",
              "      <th>sepal_width</th>\n",
              "      <th>petal_length</th>\n",
              "      <th>petal_width</th>\n",
              "      <th>class</th>\n",
              "      <th>features</th>\n",
              "      <th>class_ix</th>\n",
              "      <th>rawPrediction</th>\n",
              "      <th>probability</th>\n",
              "      <th>prediction</th>\n",
              "      <th>pred_class</th>\n",
              "    </tr>\n",
              "  </thead>\n",
              "  <tbody>\n",
              "    <tr>\n",
              "      <th>0</th>\n",
              "      <td>5.1</td>\n",
              "      <td>3.5</td>\n",
              "      <td>1.4</td>\n",
              "      <td>0.2</td>\n",
              "      <td>Iris-setosa</td>\n",
              "      <td>[5.1, 3.5, 1.4, 0.2]</td>\n",
              "      <td>0.0</td>\n",
              "      <td>[50.0, 0.0, 0.0]</td>\n",
              "      <td>[1.0, 0.0, 0.0]</td>\n",
              "      <td>0.0</td>\n",
              "      <td>Iris-setosa</td>\n",
              "    </tr>\n",
              "    <tr>\n",
              "      <th>1</th>\n",
              "      <td>4.9</td>\n",
              "      <td>3.0</td>\n",
              "      <td>1.4</td>\n",
              "      <td>0.2</td>\n",
              "      <td>Iris-setosa</td>\n",
              "      <td>[4.9, 3.0, 1.4, 0.2]</td>\n",
              "      <td>0.0</td>\n",
              "      <td>[50.0, 0.0, 0.0]</td>\n",
              "      <td>[1.0, 0.0, 0.0]</td>\n",
              "      <td>0.0</td>\n",
              "      <td>Iris-setosa</td>\n",
              "    </tr>\n",
              "    <tr>\n",
              "      <th>2</th>\n",
              "      <td>4.7</td>\n",
              "      <td>3.2</td>\n",
              "      <td>1.3</td>\n",
              "      <td>0.2</td>\n",
              "      <td>Iris-setosa</td>\n",
              "      <td>[4.7, 3.2, 1.3, 0.2]</td>\n",
              "      <td>0.0</td>\n",
              "      <td>[50.0, 0.0, 0.0]</td>\n",
              "      <td>[1.0, 0.0, 0.0]</td>\n",
              "      <td>0.0</td>\n",
              "      <td>Iris-setosa</td>\n",
              "    </tr>\n",
              "    <tr>\n",
              "      <th>3</th>\n",
              "      <td>4.6</td>\n",
              "      <td>3.1</td>\n",
              "      <td>1.5</td>\n",
              "      <td>0.2</td>\n",
              "      <td>Iris-setosa</td>\n",
              "      <td>[4.6, 3.1, 1.5, 0.2]</td>\n",
              "      <td>0.0</td>\n",
              "      <td>[50.0, 0.0, 0.0]</td>\n",
              "      <td>[1.0, 0.0, 0.0]</td>\n",
              "      <td>0.0</td>\n",
              "      <td>Iris-setosa</td>\n",
              "    </tr>\n",
              "    <tr>\n",
              "      <th>4</th>\n",
              "      <td>5.0</td>\n",
              "      <td>3.6</td>\n",
              "      <td>1.4</td>\n",
              "      <td>0.2</td>\n",
              "      <td>Iris-setosa</td>\n",
              "      <td>[5.0, 3.6, 1.4, 0.2]</td>\n",
              "      <td>0.0</td>\n",
              "      <td>[50.0, 0.0, 0.0]</td>\n",
              "      <td>[1.0, 0.0, 0.0]</td>\n",
              "      <td>0.0</td>\n",
              "      <td>Iris-setosa</td>\n",
              "    </tr>\n",
              "  </tbody>\n",
              "</table>\n",
              "</div>"
            ],
            "text/plain": [
              "   sepal_length  sepal_width  ...  prediction   pred_class\n",
              "0           5.1          3.5  ...         0.0  Iris-setosa\n",
              "1           4.9          3.0  ...         0.0  Iris-setosa\n",
              "2           4.7          3.2  ...         0.0  Iris-setosa\n",
              "3           4.6          3.1  ...         0.0  Iris-setosa\n",
              "4           5.0          3.6  ...         0.0  Iris-setosa\n",
              "\n",
              "[5 rows x 11 columns]"
            ]
          },
          "metadata": {
            "tags": []
          },
          "execution_count": 41
        }
      ]
    },
    {
      "cell_type": "code",
      "metadata": {
        "id": "PebO-UtXylaD",
        "colab_type": "code",
        "colab": {}
      },
      "source": [
        "from pyspark.ml.tuning import CrossValidator, ParamGridBuilder\n",
        "\n",
        "param_grid = ParamGridBuilder().\\\n",
        "    addGrid(dt_clfr.maxDepth, [5]).\\\n",
        "    build()\n",
        "cv = CrossValidator(\n",
        "    estimator=pipeline, \n",
        "    estimatorParamMaps=param_grid,\n",
        "    evaluator=evaluator, \n",
        "    numFolds=3, \n",
        "    seed=123\n",
        ")"
      ],
      "execution_count": 42,
      "outputs": []
    },
    {
      "cell_type": "code",
      "metadata": {
        "id": "sBY-iJ3PzLQP",
        "colab_type": "code",
        "colab": {}
      },
      "source": [
        "cv_model = cv.fit(iris)\n"
      ],
      "execution_count": 43,
      "outputs": []
    },
    {
      "cell_type": "markdown",
      "metadata": {
        "id": "8n6XryUMoQ1f",
        "colab_type": "text"
      },
      "source": [
        "Now, it is possible to see how the model does when trained on two-thirds and evaluated on on-third."
      ]
    },
    {
      "cell_type": "code",
      "metadata": {
        "id": "yz7JTPFgzPAX",
        "colab_type": "code",
        "colab": {
          "base_uri": "https://localhost:8080/",
          "height": 35
        },
        "outputId": "f9974665-3437-467e-83dd-8ba95be110d5"
      },
      "source": [
        "cv_model.avgMetrics\n"
      ],
      "execution_count": 44,
      "outputs": [
        {
          "output_type": "execute_result",
          "data": {
            "text/plain": [
              "[0.9470457079152732]"
            ]
          },
          "metadata": {
            "tags": []
          },
          "execution_count": 44
        }
      ]
    },
    {
      "cell_type": "markdown",
      "metadata": {
        "id": "mnyOFZrBoh0R",
        "colab_type": "text"
      },
      "source": [
        "95% accuracy is much more believable than 100%."
      ]
    },
    {
      "cell_type": "markdown",
      "metadata": {
        "id": "k9ai3Kwfozk_",
        "colab_type": "text"
      },
      "source": [
        "**Saving the Pipeline**"
      ]
    },
    {
      "cell_type": "code",
      "metadata": {
        "id": "qbBKJjMgzkBK",
        "colab_type": "code",
        "colab": {}
      },
      "source": [
        "pipeline_model.write().overwrite().save('pipeline.model')"
      ],
      "execution_count": 45,
      "outputs": []
    },
    {
      "cell_type": "code",
      "metadata": {
        "id": "2ZH_6NWezq4T",
        "colab_type": "code",
        "colab": {
          "base_uri": "https://localhost:8080/",
          "height": 124
        },
        "outputId": "e79b91b2-212d-4332-b72f-79393a7615be"
      },
      "source": [
        "! ls pipeline.model/*"
      ],
      "execution_count": 46,
      "outputs": [
        {
          "output_type": "stream",
          "text": [
            "pipeline.model/metadata:\n",
            "part-00000  _SUCCESS\n",
            "\n",
            "pipeline.model/stages:\n",
            "0_VectorAssembler_44aabc937917\t2_DecisionTreeClassifier_cb14d561c0a6\n",
            "1_StringIndexer_54235b4e5898\t3_IndexToString_832505ba40cb\n"
          ],
          "name": "stdout"
        }
      ]
    }
  ]
}